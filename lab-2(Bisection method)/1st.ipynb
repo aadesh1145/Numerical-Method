{
 "cells": [
  {
   "cell_type": "code",
   "execution_count": 6,
   "id": "785c3120",
   "metadata": {},
   "outputs": [
    {
     "name": "stdout",
     "output_type": "stream",
     "text": [
      "No root lies between the interval of 1.0,2.0\n"
     ]
    },
    {
     "ename": "SystemExit",
     "evalue": "",
     "output_type": "error",
     "traceback": [
      "An exception has occurred, use %tb to see the full traceback.\n",
      "\u001b[31mSystemExit\u001b[39m\n"
     ]
    },
    {
     "name": "stderr",
     "output_type": "stream",
     "text": [
      "C:\\Users\\dahal\\AppData\\Roaming\\Python\\Python313\\site-packages\\IPython\\core\\interactiveshell.py:3680: UserWarning: To exit: use 'exit', 'quit', or Ctrl-D.\n",
      "  warn(\"To exit: use 'exit', 'quit', or Ctrl-D.\", stacklevel=1)\n"
     ]
    }
   ],
   "source": [
    "import numpy as np\n",
    "import pandas as pd\n",
    "import sys\n",
    "import matplotlib.pyplot as plt\n",
    "\n",
    "def f(x):\n",
    "    return np.exp(x)-np.sin(x)-9\n",
    "\n",
    "a = float(input(\"Enter your 1st approximation: \"))\n",
    "b = float(input(\"Enter your 2nd approximation: \"))\n",
    "\n",
    "if f(a)*f(b)>0:\n",
    "    print(f\"No root lies between the interval of {a},{b}\")\n",
    "    sys.exit()\n",
    "\n",
    "else:\n",
    "    e = float(input(\"Enter tolerable error: \"))\n",
    "    n = int(input(\"Enter the maximum number of iterations: \"))\n",
    "    itr = 1\n",
    "    lst = []\n",
    "    mid = []\n",
    "\n",
    "    while(itr<=n):\n",
    "\n",
    "        c = (a+b)/2\n",
    "\n",
    "        if f(a)*f(c)<0:\n",
    "            b = c\n",
    "        \n",
    "        else:\n",
    "            a = c\n",
    "        \n",
    "        err = abs(b-a)\n",
    "        lst.append([itr,a,b,c,f(a),f(b),f(c),err])\n",
    "        mid.append(c)\n",
    "\n",
    "        if err<e:\n",
    "            df=pd.DataFrame(lst,columns=['Iteration','a','b','c','f(a)','f(b)','f(c)','Error'])\n",
    "\n",
    "            print(f\"Approximate root is {c} in {itr} iterations.\")\n",
    "            break\n",
    "        itr +=1\n",
    "\n",
    "    if itr>n:\n",
    "        print(f\"Solution doesn't converge is {n} iterations.\")\n",
    "display(df.style.hide(axis=\"index\"))\n",
    "\n",
    "x = np.linspace(-5,5,1000)\n",
    "plt.plot(x,f(x),color='r',label=\"transendental curve\")\n",
    "plt.axhline(0,0,color='g')\n",
    "plt.axvline(0,0,color='g')\n",
    "plt.grid(True)\n",
    "plt.xlabel('x')\n",
    "plt.ylabel('y')\n",
    "plt.title(\"Bisection Method\")\n",
    "plt.legend()\n",
    "plt.scatter(mid,f(mid))\n",
    "\n",
    "for i,val in enumerate(mid):\n",
    "    plt.text(val,f(val),f'{i+1}')\n",
    "\n",
    "plt.show()"
   ]
  },
  {
   "cell_type": "code",
   "execution_count": null,
   "id": "78ca723a",
   "metadata": {},
   "outputs": [],
   "source": []
  }
 ],
 "metadata": {
  "kernelspec": {
   "display_name": "Python 3",
   "language": "python",
   "name": "python3"
  },
  "language_info": {
   "codemirror_mode": {
    "name": "ipython",
    "version": 3
   },
   "file_extension": ".py",
   "mimetype": "text/x-python",
   "name": "python",
   "nbconvert_exporter": "python",
   "pygments_lexer": "ipython3",
   "version": "3.13.0"
  }
 },
 "nbformat": 4,
 "nbformat_minor": 5
}
